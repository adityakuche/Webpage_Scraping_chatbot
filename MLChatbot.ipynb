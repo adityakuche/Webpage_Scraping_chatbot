{
 "cells": [
  {
   "cell_type": "code",
   "execution_count": 1,
   "metadata": {
    "colab": {
     "base_uri": "https://localhost:8080/"
    },
    "id": "UUI1xVO9CPob",
    "outputId": "5911868a-378a-459f-e2e9-d71566a736ce"
   },
   "outputs": [
    {
     "name": "stdout",
     "output_type": "stream",
     "text": [
      "Collecting newspaper3k\n",
      "  Downloading newspaper3k-0.2.8-py3-none-any.whl (211 kB)\n",
      "\u001b[?25l     \u001b[90m━━━━━━━━━━━━━━━━━━━━━━━━━━━━━━━━━━━━━━━━\u001b[0m \u001b[32m0.0/211.1 kB\u001b[0m \u001b[31m?\u001b[0m eta \u001b[36m-:--:--\u001b[0m\r",
      "\u001b[2K     \u001b[90m━━━━━━━━━━━━━━━━━━━━━━━━━━━━━━━━━━━━━━\u001b[0m \u001b[32m211.1/211.1 kB\u001b[0m \u001b[31m13.9 MB/s\u001b[0m eta \u001b[36m0:00:00\u001b[0m\n",
      "\u001b[?25hRequirement already satisfied: beautifulsoup4>=4.4.1 in /usr/local/lib/python3.10/dist-packages (from newspaper3k) (4.11.2)\n",
      "Requirement already satisfied: Pillow>=3.3.0 in /usr/local/lib/python3.10/dist-packages (from newspaper3k) (8.4.0)\n",
      "Requirement already satisfied: PyYAML>=3.11 in /usr/local/lib/python3.10/dist-packages (from newspaper3k) (6.0)\n",
      "Collecting cssselect>=0.9.2 (from newspaper3k)\n",
      "  Downloading cssselect-1.2.0-py2.py3-none-any.whl (18 kB)\n",
      "Requirement already satisfied: lxml>=3.6.0 in /usr/local/lib/python3.10/dist-packages (from newspaper3k) (4.9.2)\n",
      "Requirement already satisfied: nltk>=3.2.1 in /usr/local/lib/python3.10/dist-packages (from newspaper3k) (3.8.1)\n",
      "Requirement already satisfied: requests>=2.10.0 in /usr/local/lib/python3.10/dist-packages (from newspaper3k) (2.27.1)\n",
      "Collecting feedparser>=5.2.1 (from newspaper3k)\n",
      "  Downloading feedparser-6.0.10-py3-none-any.whl (81 kB)\n",
      "\u001b[?25l     \u001b[90m━━━━━━━━━━━━━━━━━━━━━━━━━━━━━━━━━━━━━━━━\u001b[0m \u001b[32m0.0/81.1 kB\u001b[0m \u001b[31m?\u001b[0m eta \u001b[36m-:--:--\u001b[0m\r",
      "\u001b[2K     \u001b[90m━━━━━━━━━━━━━━━━━━━━━━━━━━━━━━━━━━━━━━━━\u001b[0m \u001b[32m81.1/81.1 kB\u001b[0m \u001b[31m9.2 MB/s\u001b[0m eta \u001b[36m0:00:00\u001b[0m\n",
      "\u001b[?25hCollecting tldextract>=2.0.1 (from newspaper3k)\n",
      "  Downloading tldextract-3.4.4-py3-none-any.whl (93 kB)\n",
      "\u001b[?25l     \u001b[90m━━━━━━━━━━━━━━━━━━━━━━━━━━━━━━━━━━━━━━━━\u001b[0m \u001b[32m0.0/93.3 kB\u001b[0m \u001b[31m?\u001b[0m eta \u001b[36m-:--:--\u001b[0m\r",
      "\u001b[2K     \u001b[90m━━━━━━━━━━━━━━━━━━━━━━━━━━━━━━━━━━━━━━━━\u001b[0m \u001b[32m93.3/93.3 kB\u001b[0m \u001b[31m11.0 MB/s\u001b[0m eta \u001b[36m0:00:00\u001b[0m\n",
      "\u001b[?25hCollecting feedfinder2>=0.0.4 (from newspaper3k)\n",
      "  Downloading feedfinder2-0.0.4.tar.gz (3.3 kB)\n",
      "  Preparing metadata (setup.py) ... \u001b[?25l\u001b[?25hdone\n",
      "Collecting jieba3k>=0.35.1 (from newspaper3k)\n",
      "  Downloading jieba3k-0.35.1.zip (7.4 MB)\n",
      "\u001b[2K     \u001b[90m━━━━━━━━━━━━━━━━━━━━━━━━━━━━━━━━━━━━━━━━\u001b[0m \u001b[32m7.4/7.4 MB\u001b[0m \u001b[31m83.6 MB/s\u001b[0m eta \u001b[36m0:00:00\u001b[0m\n",
      "\u001b[?25h  Preparing metadata (setup.py) ... \u001b[?25l\u001b[?25hdone\n",
      "Requirement already satisfied: python-dateutil>=2.5.3 in /usr/local/lib/python3.10/dist-packages (from newspaper3k) (2.8.2)\n",
      "Collecting tinysegmenter==0.3 (from newspaper3k)\n",
      "  Downloading tinysegmenter-0.3.tar.gz (16 kB)\n",
      "  Preparing metadata (setup.py) ... \u001b[?25l\u001b[?25hdone\n",
      "Requirement already satisfied: soupsieve>1.2 in /usr/local/lib/python3.10/dist-packages (from beautifulsoup4>=4.4.1->newspaper3k) (2.4.1)\n",
      "Requirement already satisfied: six in /usr/local/lib/python3.10/dist-packages (from feedfinder2>=0.0.4->newspaper3k) (1.16.0)\n",
      "Collecting sgmllib3k (from feedparser>=5.2.1->newspaper3k)\n",
      "  Downloading sgmllib3k-1.0.0.tar.gz (5.8 kB)\n",
      "  Preparing metadata (setup.py) ... \u001b[?25l\u001b[?25hdone\n",
      "Requirement already satisfied: click in /usr/local/lib/python3.10/dist-packages (from nltk>=3.2.1->newspaper3k) (8.1.3)\n",
      "Requirement already satisfied: joblib in /usr/local/lib/python3.10/dist-packages (from nltk>=3.2.1->newspaper3k) (1.2.0)\n",
      "Requirement already satisfied: regex>=2021.8.3 in /usr/local/lib/python3.10/dist-packages (from nltk>=3.2.1->newspaper3k) (2022.10.31)\n",
      "Requirement already satisfied: tqdm in /usr/local/lib/python3.10/dist-packages (from nltk>=3.2.1->newspaper3k) (4.65.0)\n",
      "Requirement already satisfied: urllib3<1.27,>=1.21.1 in /usr/local/lib/python3.10/dist-packages (from requests>=2.10.0->newspaper3k) (1.26.16)\n",
      "Requirement already satisfied: certifi>=2017.4.17 in /usr/local/lib/python3.10/dist-packages (from requests>=2.10.0->newspaper3k) (2023.5.7)\n",
      "Requirement already satisfied: charset-normalizer~=2.0.0 in /usr/local/lib/python3.10/dist-packages (from requests>=2.10.0->newspaper3k) (2.0.12)\n",
      "Requirement already satisfied: idna<4,>=2.5 in /usr/local/lib/python3.10/dist-packages (from requests>=2.10.0->newspaper3k) (3.4)\n",
      "Collecting requests-file>=1.4 (from tldextract>=2.0.1->newspaper3k)\n",
      "  Downloading requests_file-1.5.1-py2.py3-none-any.whl (3.7 kB)\n",
      "Requirement already satisfied: filelock>=3.0.8 in /usr/local/lib/python3.10/dist-packages (from tldextract>=2.0.1->newspaper3k) (3.12.2)\n",
      "Building wheels for collected packages: tinysegmenter, feedfinder2, jieba3k, sgmllib3k\n",
      "  Building wheel for tinysegmenter (setup.py) ... \u001b[?25l\u001b[?25hdone\n",
      "  Created wheel for tinysegmenter: filename=tinysegmenter-0.3-py3-none-any.whl size=13541 sha256=14995247d1c7980592d033fd7de8e6e7cf227131ff8f937bc82ca8572a32ce39\n",
      "  Stored in directory: /root/.cache/pip/wheels/c8/d6/6c/384f58df48c00b9a31d638005143b5b3ac62c3d25fb1447f23\n",
      "  Building wheel for feedfinder2 (setup.py) ... \u001b[?25l\u001b[?25hdone\n",
      "  Created wheel for feedfinder2: filename=feedfinder2-0.0.4-py3-none-any.whl size=3341 sha256=4293032383a235a8cfe3153e058ae9812665e459a1d0073b941162de1716d09e\n",
      "  Stored in directory: /root/.cache/pip/wheels/97/02/e7/a1ff1760e12bdbaab0ac824fae5c1bc933e41c4ccd6a8f8edb\n",
      "  Building wheel for jieba3k (setup.py) ... \u001b[?25l\u001b[?25hdone\n",
      "  Created wheel for jieba3k: filename=jieba3k-0.35.1-py3-none-any.whl size=7398382 sha256=1d3053d539bda02bd70bf777ad31070590c4ae58808e6e53e93248fc08e8096b\n",
      "  Stored in directory: /root/.cache/pip/wheels/7a/c4/0c/12a9a314ecac499456c4c3b2fcc2f635a3b45a39dfbd240299\n",
      "  Building wheel for sgmllib3k (setup.py) ... \u001b[?25l\u001b[?25hdone\n",
      "  Created wheel for sgmllib3k: filename=sgmllib3k-1.0.0-py3-none-any.whl size=6046 sha256=6be4d78c37e21ddd6cf9917159ccc5476d352427ec5bc531c2b9127c02a839ea\n",
      "  Stored in directory: /root/.cache/pip/wheels/f0/69/93/a47e9d621be168e9e33c7ce60524393c0b92ae83cf6c6e89c5\n",
      "Successfully built tinysegmenter feedfinder2 jieba3k sgmllib3k\n",
      "Installing collected packages: tinysegmenter, sgmllib3k, jieba3k, feedparser, cssselect, requests-file, feedfinder2, tldextract, newspaper3k\n",
      "Successfully installed cssselect-1.2.0 feedfinder2-0.0.4 feedparser-6.0.10 jieba3k-0.35.1 newspaper3k-0.2.8 requests-file-1.5.1 sgmllib3k-1.0.0 tinysegmenter-0.3 tldextract-3.4.4\n"
     ]
    }
   ],
   "source": [
    "!pip install newspaper3k"
   ]
  },
  {
   "cell_type": "code",
   "execution_count": 2,
   "metadata": {
    "colab": {
     "base_uri": "https://localhost:8080/"
    },
    "id": "48y6CM_pikGm",
    "outputId": "003d9843-b2ba-4f4c-931f-458d7afcef19"
   },
   "outputs": [
    {
     "name": "stdout",
     "output_type": "stream",
     "text": [
      "I'm Dr. Andrew Bentall, a kidney doctor at Mayo Clinic. I look after patients with kidney disease, either in the early stages, or with more advanced kidney disease considering dialysis and transplantation as treatment options. In this video, we'll cover the basics of chronic kidney disease. What is it? Who gets it? The symptoms, diagnosis and treatment. Whether you are looking for answers for yourself or for someone you love, we're here to give you the best information available.\n",
      "\n",
      "Chronic kidney disease is a disease characterized by progressive damage and loss of function in the kidneys. It's estimated that chronic kidney disease affects about one in seven American adults. And most of those don't know they have it. Before we get into the disease itself, let's talk a little bit about the kidneys and what they do. Our kidneys play many important roles keeping our bodies in balance. They remove waste and toxins, excess water from the bloodstream, which is carried out of the body in urine. They helped to make hormones to produce red blood cells, and they turn vitamin D into its active form, so it's usable in the body.\n",
      "\n",
      "There are quite a few things that can cause or put you at higher risk for chronic kidney disease. Some of them are not things that can be avoided. Your risk is simply higher if you have a family history of certain genetic conditions like polycystic kidney disease or some autoimmune diseases like lupus or IgA nephropathy. Defects in the kidney structure can also cause your kidneys to fail, and you have an increased risk as you get older. Sometimes, other common medical conditions can increase your risk. Diabetes is the most common cause of kidney disease. Both type 1 and type 2 diabetes. But also heart disease and obesity can contribute to the damage that causes kidneys to fail. Urinary tract issues and inflammation in different parts of the kidney can also lead to long-term functional decline. There are things that are more under our control: Heavy or long-term use of certain medications, even those that are common over-the-counter. Smoking can also be a contributing factor to chronic kidney disease.\n",
      "\n",
      "Often there are no outward signs in the earlier stages of chronic kidney disease, which is grouped into stages 1 through 5. Generally, earlier stages are known as 1 to 3. And as kidney disease progresses, you may notice the following symptoms. Nausea and vomiting, muscle cramps, loss of appetite, swelling via feet and ankles, dry, itchy skin, shortness of breath, trouble sleeping, urinating either too much or too little. However, these are usually in the later stages, but they can also happen in other disorders. So don't automatically interpret this as having kidney disease. But if you're experiencing anything that concerns you, you should make an appointment with your doctor.\n",
      "\n",
      "Even before any symptoms appear, routine blood work can indicate that you might be in the early stages of chronic kidney disease. And the earlier it's detected, the easier it is to treat. This is why regular checkups with your doctor are important. If your doctor suspects the onset of chronic kidney disease, they may schedule a variety of other tests. They may also refer you to a kidney specialist, a nephrologist like myself. Urine tests can reveal abnormalities and give clues to the underlying cause of the chronic kidney disease. And this can also help to determine the underlying issues. Various imaging tests like ultrasounds or CT scans can be done to help your doctor assess the size, the structure, as well as evaluate the visible damage, inflammation or stones of your kidneys. And in some cases, a kidney biopsy may be necessary. And a small amount of tissue is taken with a needle and sent to the pathologist for further analysis.\n",
      "\n",
      "Treatment is determined by what is causing your kidneys to not function normally. Treating the cause is key, leading to reduced complications and slowing progression of kidney disease. For example, getting better blood pressure control, improved sugar control and diabetes, and reducing weight are often key interventions. However, existing damage is not usually reversible. In some conditions, treatment can reverse the cause of the disease. So seeking medical review is really important. Individual complications vary, but treatment might include high blood pressure medication, diuretics to reduce fluid and swelling, supplements to relieve anemia, statins to lower cholesterol, or medications to protect your bones and prevent blood vessel calcification. A lower-protein diet may also be recommended. It reduces the amount of waste your kidneys need to filter from your blood. These can not only slow the damage of kidney disease, but make you feel better as well. When the damage has progressed to the point that 85 to 90 percent of your kidney function is gone, and they no longer work well enough to keep you alive, it's called end-stage kidney failure. But there are still options. There's dialysis, which uses a machine to filter the toxins and remove water from your body as your kidneys are no longer able to do this. Where possible, the preferred therapy is a kidney transplant. While an organ transplant can sound daunting, it's actually often the better alternative, and the closest thing to a cure, if you qualify for a kidney transplant.\n",
      "\n",
      "If you have kidney disease, there are lifestyle choices. Namely quit smoking. Consuming alcohol in moderation. If you're overweight or obese, then try to lose weight. Staying active and getting exercise can help not only with your weight, but fatigue and stress. If your condition allows, keep up with your routine, whether that's working, hobbies, social activities, or other things you enjoy. It can be helpful to talk to someone you trust, a friend or relative who's good at listening. Or your doctor could also refer you to a therapist or social worker. It can also be helpful to find a support group and connect with people going through the same thing. Learning you have chronic kidney disease and learning how to live with it can be a challenge. But there are lots of ways to help you to be more comfortable for longer before more drastic measures are needed. And even then, there is plenty of hope. If you'd like to learn even more about chronic kidney disease, watch our other related videos or visit mayoclinic.org. We wish you well.\n"
     ]
    }
   ],
   "source": [
    "from newspaper import Article\n",
    "import random\n",
    "import string\n",
    "from sklearn.feature_extraction.text import TfidfVectorizer\n",
    "from sklearn.metrics.pairwise import cosine_similarity\n",
    "import nltk\n",
    "import numpy as np\n",
    "import warnings\n",
    "\n",
    "# ignore warnings\n",
    "warnings.filterwarnings('ignore')\n",
    "\n",
    "#download packages from nltk\n",
    "nltk.download('punkt',quiet=True) #just download don't show message anything extract\n",
    "nltk.download('wordnet', quiet=True)\n",
    "\n",
    "#get the Article URL\n",
    "article=Article('https://www.mayoclinic.org/diseases-conditions/chronic-kidney-disease/symptoms-causes/syc-20354521')\n",
    "article.download()\n",
    "article.parse()   # trees and token from it\n",
    "article.nlp()     #creating object\n",
    "corpus=article.text #corpus\n",
    "print(corpus)\n",
    "\n",
    "\n",
    "\n",
    "\n",
    "\n",
    "\n"
   ]
  },
  {
   "cell_type": "code",
   "execution_count": 3,
   "metadata": {
    "colab": {
     "base_uri": "https://localhost:8080/"
    },
    "id": "FoMcH7_VDPi5",
    "outputId": "f2841ed7-4b56-4ab9-e1d3-2dade1544dfc"
   },
   "outputs": [
    {
     "name": "stdout",
     "output_type": "stream",
     "text": [
      "[\"I'm Dr. Andrew Bentall, a kidney doctor at Mayo Clinic.\", 'I look after patients with kidney disease, either in the early stages, or with more advanced kidney disease considering dialysis and transplantation as treatment options.', \"In this video, we'll cover the basics of chronic kidney disease.\", 'What is it?', 'Who gets it?', 'The symptoms, diagnosis and treatment.', \"Whether you are looking for answers for yourself or for someone you love, we're here to give you the best information available.\", 'Chronic kidney disease is a disease characterized by progressive damage and loss of function in the kidneys.', \"It's estimated that chronic kidney disease affects about one in seven American adults.\", \"And most of those don't know they have it.\", \"Before we get into the disease itself, let's talk a little bit about the kidneys and what they do.\", 'Our kidneys play many important roles keeping our bodies in balance.', 'They remove waste and toxins, excess water from the bloodstream, which is carried out of the body in urine.', \"They helped to make hormones to produce red blood cells, and they turn vitamin D into its active form, so it's usable in the body.\", 'There are quite a few things that can cause or put you at higher risk for chronic kidney disease.', 'Some of them are not things that can be avoided.', 'Your risk is simply higher if you have a family history of certain genetic conditions like polycystic kidney disease or some autoimmune diseases like lupus or IgA nephropathy.', 'Defects in the kidney structure can also cause your kidneys to fail, and you have an increased risk as you get older.', 'Sometimes, other common medical conditions can increase your risk.', 'Diabetes is the most common cause of kidney disease.', 'Both type 1 and type 2 diabetes.', 'But also heart disease and obesity can contribute to the damage that causes kidneys to fail.', 'Urinary tract issues and inflammation in different parts of the kidney can also lead to long-term functional decline.', 'There are things that are more under our control: Heavy or long-term use of certain medications, even those that are common over-the-counter.', 'Smoking can also be a contributing factor to chronic kidney disease.', 'Often there are no outward signs in the earlier stages of chronic kidney disease, which is grouped into stages 1 through 5.', 'Generally, earlier stages are known as 1 to 3.', 'And as kidney disease progresses, you may notice the following symptoms.', 'Nausea and vomiting, muscle cramps, loss of appetite, swelling via feet and ankles, dry, itchy skin, shortness of breath, trouble sleeping, urinating either too much or too little.', 'However, these are usually in the later stages, but they can also happen in other disorders.', \"So don't automatically interpret this as having kidney disease.\", \"But if you're experiencing anything that concerns you, you should make an appointment with your doctor.\", 'Even before any symptoms appear, routine blood work can indicate that you might be in the early stages of chronic kidney disease.', \"And the earlier it's detected, the easier it is to treat.\", 'This is why regular checkups with your doctor are important.', 'If your doctor suspects the onset of chronic kidney disease, they may schedule a variety of other tests.', 'They may also refer you to a kidney specialist, a nephrologist like myself.', 'Urine tests can reveal abnormalities and give clues to the underlying cause of the chronic kidney disease.', 'And this can also help to determine the underlying issues.', 'Various imaging tests like ultrasounds or CT scans can be done to help your doctor assess the size, the structure, as well as evaluate the visible damage, inflammation or stones of your kidneys.', 'And in some cases, a kidney biopsy may be necessary.', 'And a small amount of tissue is taken with a needle and sent to the pathologist for further analysis.', 'Treatment is determined by what is causing your kidneys to not function normally.', 'Treating the cause is key, leading to reduced complications and slowing progression of kidney disease.', 'For example, getting better blood pressure control, improved sugar control and diabetes, and reducing weight are often key interventions.', 'However, existing damage is not usually reversible.', 'In some conditions, treatment can reverse the cause of the disease.', 'So seeking medical review is really important.', 'Individual complications vary, but treatment might include high blood pressure medication, diuretics to reduce fluid and swelling, supplements to relieve anemia, statins to lower cholesterol, or medications to protect your bones and prevent blood vessel calcification.', 'A lower-protein diet may also be recommended.', 'It reduces the amount of waste your kidneys need to filter from your blood.', 'These can not only slow the damage of kidney disease, but make you feel better as well.', \"When the damage has progressed to the point that 85 to 90 percent of your kidney function is gone, and they no longer work well enough to keep you alive, it's called end-stage kidney failure.\", 'But there are still options.', \"There's dialysis, which uses a machine to filter the toxins and remove water from your body as your kidneys are no longer able to do this.\", 'Where possible, the preferred therapy is a kidney transplant.', \"While an organ transplant can sound daunting, it's actually often the better alternative, and the closest thing to a cure, if you qualify for a kidney transplant.\", 'If you have kidney disease, there are lifestyle choices.', 'Namely quit smoking.', 'Consuming alcohol in moderation.', \"If you're overweight or obese, then try to lose weight.\", 'Staying active and getting exercise can help not only with your weight, but fatigue and stress.', \"If your condition allows, keep up with your routine, whether that's working, hobbies, social activities, or other things you enjoy.\", \"It can be helpful to talk to someone you trust, a friend or relative who's good at listening.\", 'Or your doctor could also refer you to a therapist or social worker.', 'It can also be helpful to find a support group and connect with people going through the same thing.', 'Learning you have chronic kidney disease and learning how to live with it can be a challenge.', 'But there are lots of ways to help you to be more comfortable for longer before more drastic measures are needed.', 'And even then, there is plenty of hope.', \"If you'd like to learn even more about chronic kidney disease, watch our other related videos or visit mayoclinic.org.\", 'We wish you well.']\n"
     ]
    }
   ],
   "source": [
    "#Tokenization\n",
    "text=corpus\n",
    "sent_tokens=nltk.sent_tokenize(text) #convert the text into a list of sentences\n",
    "\n",
    "print(sent_tokens)"
   ]
  },
  {
   "cell_type": "code",
   "execution_count": 4,
   "metadata": {
    "colab": {
     "base_uri": "https://localhost:8080/"
    },
    "id": "HcOGJyhtDp-O",
    "outputId": "60e417f0-f0da-43a6-8115-cea8c0a5a06d"
   },
   "outputs": [
    {
     "name": "stdout",
     "output_type": "stream",
     "text": [
      "!\"#$%&'()*+,-./:;<=>?@[\\]^_`{|}~\n",
      "{33: None, 34: None, 35: None, 36: None, 37: None, 38: None, 39: None, 40: None, 41: None, 42: None, 43: None, 44: None, 45: None, 46: None, 47: None, 58: None, 59: None, 60: None, 61: None, 62: None, 63: None, 64: None, 91: None, 92: None, 93: None, 94: None, 95: None, 96: None, 123: None, 124: None, 125: None, 126: None}\n"
     ]
    }
   ],
   "source": [
    "#create a dictionary to remove punctuation\n",
    "remove_punct_dict=dict((ord(punct),None) for punct in string.punctuation)\n",
    "print(string.punctuation)\n",
    "print(remove_punct_dict)\n"
   ]
  },
  {
   "cell_type": "code",
   "execution_count": null,
   "metadata": {
    "id": "Y2odLOkWFW5z"
   },
   "outputs": [],
   "source": []
  },
  {
   "cell_type": "code",
   "execution_count": 5,
   "metadata": {
    "colab": {
     "base_uri": "https://localhost:8080/"
    },
    "id": "D_1EVXt2GnwJ",
    "outputId": "4eb360dd-9375-4d44-b183-1e4201b24a05"
   },
   "outputs": [
    {
     "name": "stdout",
     "output_type": "stream",
     "text": [
      "['im', 'dr', 'andrew', 'bentall', 'a', 'kidney', 'doctor', 'at', 'mayo', 'clinic', 'i', 'look', 'after', 'patients', 'with', 'kidney', 'disease', 'either', 'in', 'the', 'early', 'stages', 'or', 'with', 'more', 'advanced', 'kidney', 'disease', 'considering', 'dialysis', 'and', 'transplantation', 'as', 'treatment', 'options', 'in', 'this', 'video', 'well', 'cover', 'the', 'basics', 'of', 'chronic', 'kidney', 'disease', 'what', 'is', 'it', 'who', 'gets', 'it', 'the', 'symptoms', 'diagnosis', 'and', 'treatment', 'whether', 'you', 'are', 'looking', 'for', 'answers', 'for', 'yourself', 'or', 'for', 'someone', 'you', 'love', 'were', 'here', 'to', 'give', 'you', 'the', 'best', 'information', 'available', 'chronic', 'kidney', 'disease', 'is', 'a', 'disease', 'characterized', 'by', 'progressive', 'damage', 'and', 'loss', 'of', 'function', 'in', 'the', 'kidneys', 'its', 'estimated', 'that', 'chronic', 'kidney', 'disease', 'affects', 'about', 'one', 'in', 'seven', 'american', 'adults', 'and', 'most', 'of', 'those', 'dont', 'know', 'they', 'have', 'it', 'before', 'we', 'get', 'into', 'the', 'disease', 'itself', 'lets', 'talk', 'a', 'little', 'bit', 'about', 'the', 'kidneys', 'and', 'what', 'they', 'do', 'our', 'kidneys', 'play', 'many', 'important', 'roles', 'keeping', 'our', 'bodies', 'in', 'balance', 'they', 'remove', 'waste', 'and', 'toxins', 'excess', 'water', 'from', 'the', 'bloodstream', 'which', 'is', 'carried', 'out', 'of', 'the', 'body', 'in', 'urine', 'they', 'helped', 'to', 'make', 'hormones', 'to', 'produce', 'red', 'blood', 'cells', 'and', 'they', 'turn', 'vitamin', 'd', 'into', 'its', 'active', 'form', 'so', 'its', 'usable', 'in', 'the', 'body', 'there', 'are', 'quite', 'a', 'few', 'things', 'that', 'can', 'cause', 'or', 'put', 'you', 'at', 'higher', 'risk', 'for', 'chronic', 'kidney', 'disease', 'some', 'of', 'them', 'are', 'not', 'things', 'that', 'can', 'be', 'avoided', 'your', 'risk', 'is', 'simply', 'higher', 'if', 'you', 'have', 'a', 'family', 'history', 'of', 'certain', 'genetic', 'conditions', 'like', 'polycystic', 'kidney', 'disease', 'or', 'some', 'autoimmune', 'diseases', 'like', 'lupus', 'or', 'iga', 'nephropathy', 'defects', 'in', 'the', 'kidney', 'structure', 'can', 'also', 'cause', 'your', 'kidneys', 'to', 'fail', 'and', 'you', 'have', 'an', 'increased', 'risk', 'as', 'you', 'get', 'older', 'sometimes', 'other', 'common', 'medical', 'conditions', 'can', 'increase', 'your', 'risk', 'diabetes', 'is', 'the', 'most', 'common', 'cause', 'of', 'kidney', 'disease', 'both', 'type', '1', 'and', 'type', '2', 'diabetes', 'but', 'also', 'heart', 'disease', 'and', 'obesity', 'can', 'contribute', 'to', 'the', 'damage', 'that', 'causes', 'kidneys', 'to', 'fail', 'urinary', 'tract', 'issues', 'and', 'inflammation', 'in', 'different', 'parts', 'of', 'the', 'kidney', 'can', 'also', 'lead', 'to', 'longterm', 'functional', 'decline', 'there', 'are', 'things', 'that', 'are', 'more', 'under', 'our', 'control', 'heavy', 'or', 'longterm', 'use', 'of', 'certain', 'medications', 'even', 'those', 'that', 'are', 'common', 'overthecounter', 'smoking', 'can', 'also', 'be', 'a', 'contributing', 'factor', 'to', 'chronic', 'kidney', 'disease', 'often', 'there', 'are', 'no', 'outward', 'signs', 'in', 'the', 'earlier', 'stages', 'of', 'chronic', 'kidney', 'disease', 'which', 'is', 'grouped', 'into', 'stages', '1', 'through', '5', 'generally', 'earlier', 'stages', 'are', 'known', 'as', '1', 'to', '3', 'and', 'as', 'kidney', 'disease', 'progresses', 'you', 'may', 'notice', 'the', 'following', 'symptoms', 'nausea', 'and', 'vomiting', 'muscle', 'cramps', 'loss', 'of', 'appetite', 'swelling', 'via', 'feet', 'and', 'ankles', 'dry', 'itchy', 'skin', 'shortness', 'of', 'breath', 'trouble', 'sleeping', 'urinating', 'either', 'too', 'much', 'or', 'too', 'little', 'however', 'these', 'are', 'usually', 'in', 'the', 'later', 'stages', 'but', 'they', 'can', 'also', 'happen', 'in', 'other', 'disorders', 'so', 'dont', 'automatically', 'interpret', 'this', 'as', 'having', 'kidney', 'disease', 'but', 'if', 'youre', 'experiencing', 'anything', 'that', 'concerns', 'you', 'you', 'should', 'make', 'an', 'appointment', 'with', 'your', 'doctor', 'even', 'before', 'any', 'symptoms', 'appear', 'routine', 'blood', 'work', 'can', 'indicate', 'that', 'you', 'might', 'be', 'in', 'the', 'early', 'stages', 'of', 'chronic', 'kidney', 'disease', 'and', 'the', 'earlier', 'its', 'detected', 'the', 'easier', 'it', 'is', 'to', 'treat', 'this', 'is', 'why', 'regular', 'checkups', 'with', 'your', 'doctor', 'are', 'important', 'if', 'your', 'doctor', 'suspects', 'the', 'onset', 'of', 'chronic', 'kidney', 'disease', 'they', 'may', 'schedule', 'a', 'variety', 'of', 'other', 'tests', 'they', 'may', 'also', 'refer', 'you', 'to', 'a', 'kidney', 'specialist', 'a', 'nephrologist', 'like', 'myself', 'urine', 'tests', 'can', 'reveal', 'abnormalities', 'and', 'give', 'clues', 'to', 'the', 'underlying', 'cause', 'of', 'the', 'chronic', 'kidney', 'disease', 'and', 'this', 'can', 'also', 'help', 'to', 'determine', 'the', 'underlying', 'issues', 'various', 'imaging', 'tests', 'like', 'ultrasounds', 'or', 'ct', 'scans', 'can', 'be', 'done', 'to', 'help', 'your', 'doctor', 'assess', 'the', 'size', 'the', 'structure', 'as', 'well', 'as', 'evaluate', 'the', 'visible', 'damage', 'inflammation', 'or', 'stones', 'of', 'your', 'kidneys', 'and', 'in', 'some', 'cases', 'a', 'kidney', 'biopsy', 'may', 'be', 'necessary', 'and', 'a', 'small', 'amount', 'of', 'tissue', 'is', 'taken', 'with', 'a', 'needle', 'and', 'sent', 'to', 'the', 'pathologist', 'for', 'further', 'analysis', 'treatment', 'is', 'determined', 'by', 'what', 'is', 'causing', 'your', 'kidneys', 'to', 'not', 'function', 'normally', 'treating', 'the', 'cause', 'is', 'key', 'leading', 'to', 'reduced', 'complications', 'and', 'slowing', 'progression', 'of', 'kidney', 'disease', 'for', 'example', 'getting', 'better', 'blood', 'pressure', 'control', 'improved', 'sugar', 'control', 'and', 'diabetes', 'and', 'reducing', 'weight', 'are', 'often', 'key', 'interventions', 'however', 'existing', 'damage', 'is', 'not', 'usually', 'reversible', 'in', 'some', 'conditions', 'treatment', 'can', 'reverse', 'the', 'cause', 'of', 'the', 'disease', 'so', 'seeking', 'medical', 'review', 'is', 'really', 'important', 'individual', 'complications', 'vary', 'but', 'treatment', 'might', 'include', 'high', 'blood', 'pressure', 'medication', 'diuretics', 'to', 'reduce', 'fluid', 'and', 'swelling', 'supplements', 'to', 'relieve', 'anemia', 'statins', 'to', 'lower', 'cholesterol', 'or', 'medications', 'to', 'protect', 'your', 'bones', 'and', 'prevent', 'blood', 'vessel', 'calcification', 'a', 'lowerprotein', 'diet', 'may', 'also', 'be', 'recommended', 'it', 'reduces', 'the', 'amount', 'of', 'waste', 'your', 'kidneys', 'need', 'to', 'filter', 'from', 'your', 'blood', 'these', 'can', 'not', 'only', 'slow', 'the', 'damage', 'of', 'kidney', 'disease', 'but', 'make', 'you', 'feel', 'better', 'as', 'well', 'when', 'the', 'damage', 'has', 'progressed', 'to', 'the', 'point', 'that', '85', 'to', '90', 'percent', 'of', 'your', 'kidney', 'function', 'is', 'gone', 'and', 'they', 'no', 'longer', 'work', 'well', 'enough', 'to', 'keep', 'you', 'alive', 'its', 'called', 'endstage', 'kidney', 'failure', 'but', 'there', 'are', 'still', 'options', 'theres', 'dialysis', 'which', 'uses', 'a', 'machine', 'to', 'filter', 'the', 'toxins', 'and', 'remove', 'water', 'from', 'your', 'body', 'as', 'your', 'kidneys', 'are', 'no', 'longer', 'able', 'to', 'do', 'this', 'where', 'possible', 'the', 'preferred', 'therapy', 'is', 'a', 'kidney', 'transplant', 'while', 'an', 'organ', 'transplant', 'can', 'sound', 'daunting', 'its', 'actually', 'often', 'the', 'better', 'alternative', 'and', 'the', 'closest', 'thing', 'to', 'a', 'cure', 'if', 'you', 'qualify', 'for', 'a', 'kidney', 'transplant', 'if', 'you', 'have', 'kidney', 'disease', 'there', 'are', 'lifestyle', 'choices', 'namely', 'quit', 'smoking', 'consuming', 'alcohol', 'in', 'moderation', 'if', 'youre', 'overweight', 'or', 'obese', 'then', 'try', 'to', 'lose', 'weight', 'staying', 'active', 'and', 'getting', 'exercise', 'can', 'help', 'not', 'only', 'with', 'your', 'weight', 'but', 'fatigue', 'and', 'stress', 'if', 'your', 'condition', 'allows', 'keep', 'up', 'with', 'your', 'routine', 'whether', 'thats', 'working', 'hobbies', 'social', 'activities', 'or', 'other', 'things', 'you', 'enjoy', 'it', 'can', 'be', 'helpful', 'to', 'talk', 'to', 'someone', 'you', 'trust', 'a', 'friend', 'or', 'relative', 'whos', 'good', 'at', 'listening', 'or', 'your', 'doctor', 'could', 'also', 'refer', 'you', 'to', 'a', 'therapist', 'or', 'social', 'worker', 'it', 'can', 'also', 'be', 'helpful', 'to', 'find', 'a', 'support', 'group', 'and', 'connect', 'with', 'people', 'going', 'through', 'the', 'same', 'thing', 'learning', 'you', 'have', 'chronic', 'kidney', 'disease', 'and', 'learning', 'how', 'to', 'live', 'with', 'it', 'can', 'be', 'a', 'challenge', 'but', 'there', 'are', 'lots', 'of', 'ways', 'to', 'help', 'you', 'to', 'be', 'more', 'comfortable', 'for', 'longer', 'before', 'more', 'drastic', 'measures', 'are', 'needed', 'and', 'even', 'then', 'there', 'is', 'plenty', 'of', 'hope', 'if', 'youd', 'like', 'to', 'learn', 'even', 'more', 'about', 'chronic', 'kidney', 'disease', 'watch', 'our', 'other', 'related', 'videos', 'or', 'visit', 'mayoclinicorg', 'we', 'wish', 'you', 'well']\n",
      "123\n",
      "I'm Dr. Andrew Bentall, a kidney doctor at Mayo Clinic. I look after patients with kidney disease, either in the early stages, or with more advanced kidney disease considering dialysis and transplantation as treatment options. In this video, we'll cover the basics of chronic kidney disease. What is it? Who gets it? The symptoms, diagnosis and treatment. Whether you are looking for answers for yourself or for someone you love, we're here to give you the best information available.\n",
      "\n",
      "Chronic kidney disease is a disease characterized by progressive damage and loss of function in the kidneys. It's estimated that chronic kidney disease affects about one in seven American adults. And most of those don't know they have it. Before we get into the disease itself, let's talk a little bit about the kidneys and what they do. Our kidneys play many important roles keeping our bodies in balance. They remove waste and toxins, excess water from the bloodstream, which is carried out of the body in urine. They helped to make hormones to produce red blood cells, and they turn vitamin D into its active form, so it's usable in the body.\n",
      "\n",
      "There are quite a few things that can cause or put you at higher risk for chronic kidney disease. Some of them are not things that can be avoided. Your risk is simply higher if you have a family history of certain genetic conditions like polycystic kidney disease or some autoimmune diseases like lupus or IgA nephropathy. Defects in the kidney structure can also cause your kidneys to fail, and you have an increased risk as you get older. Sometimes, other common medical conditions can increase your risk. Diabetes is the most common cause of kidney disease. Both type 1 and type 2 diabetes. But also heart disease and obesity can contribute to the damage that causes kidneys to fail. Urinary tract issues and inflammation in different parts of the kidney can also lead to long-term functional decline. There are things that are more under our control: Heavy or long-term use of certain medications, even those that are common over-the-counter. Smoking can also be a contributing factor to chronic kidney disease.\n",
      "\n",
      "Often there are no outward signs in the earlier stages of chronic kidney disease, which is grouped into stages 1 through 5. Generally, earlier stages are known as 1 to 3. And as kidney disease progresses, you may notice the following symptoms. Nausea and vomiting, muscle cramps, loss of appetite, swelling via feet and ankles, dry, itchy skin, shortness of breath, trouble sleeping, urinating either too much or too little. However, these are usually in the later stages, but they can also happen in other disorders. So don't automatically interpret this as having kidney disease. But if you're experiencing anything that concerns you, you should make an appointment with your doctor.\n",
      "\n",
      "Even before any symptoms appear, routine blood work can indicate that you might be in the early stages of chronic kidney disease. And the earlier it's detected, the easier it is to treat. This is why regular checkups with your doctor are important. If your doctor suspects the onset of chronic kidney disease, they may schedule a variety of other tests. They may also refer you to a kidney specialist, a nephrologist like myself. Urine tests can reveal abnormalities and give clues to the underlying cause of the chronic kidney disease. And this can also help to determine the underlying issues. Various imaging tests like ultrasounds or CT scans can be done to help your doctor assess the size, the structure, as well as evaluate the visible damage, inflammation or stones of your kidneys. And in some cases, a kidney biopsy may be necessary. And a small amount of tissue is taken with a needle and sent to the pathologist for further analysis.\n",
      "\n",
      "Treatment is determined by what is causing your kidneys to not function normally. Treating the cause is key, leading to reduced complications and slowing progression of kidney disease. For example, getting better blood pressure control, improved sugar control and diabetes, and reducing weight are often key interventions. However, existing damage is not usually reversible. In some conditions, treatment can reverse the cause of the disease. So seeking medical review is really important. Individual complications vary, but treatment might include high blood pressure medication, diuretics to reduce fluid and swelling, supplements to relieve anemia, statins to lower cholesterol, or medications to protect your bones and prevent blood vessel calcification. A lower-protein diet may also be recommended. It reduces the amount of waste your kidneys need to filter from your blood. These can not only slow the damage of kidney disease, but make you feel better as well. When the damage has progressed to the point that 85 to 90 percent of your kidney function is gone, and they no longer work well enough to keep you alive, it's called end-stage kidney failure. But there are still options. There's dialysis, which uses a machine to filter the toxins and remove water from your body as your kidneys are no longer able to do this. Where possible, the preferred therapy is a kidney transplant. While an organ transplant can sound daunting, it's actually often the better alternative, and the closest thing to a cure, if you qualify for a kidney transplant.\n",
      "\n",
      "If you have kidney disease, there are lifestyle choices. Namely quit smoking. Consuming alcohol in moderation. If you're overweight or obese, then try to lose weight. Staying active and getting exercise can help not only with your weight, but fatigue and stress. If your condition allows, keep up with your routine, whether that's working, hobbies, social activities, or other things you enjoy. It can be helpful to talk to someone you trust, a friend or relative who's good at listening. Or your doctor could also refer you to a therapist or social worker. It can also be helpful to find a support group and connect with people going through the same thing. Learning you have chronic kidney disease and learning how to live with it can be a challenge. But there are lots of ways to help you to be more comfortable for longer before more drastic measures are needed. And even then, there is plenty of hope. If you'd like to learn even more about chronic kidney disease, watch our other related videos or visit mayoclinic.org. We wish you well.\n"
     ]
    }
   ],
   "source": [
    "#Create a function to return  list of lemmatized lower case words after removing punctuation\n",
    "def LemNormalize(text):\n",
    "  return nltk.word_tokenize(text.lower().translate(remove_punct_dict))\n",
    "  #Print the tokenization text\n",
    "print (LemNormalize(text))\n",
    "print('123')\n",
    "print (text)\n"
   ]
  },
  {
   "cell_type": "code",
   "execution_count": 6,
   "metadata": {
    "id": "KMJWdLAqMswS"
   },
   "outputs": [],
   "source": [
    "import random\n",
    "#Keywords Matching\n",
    "#Greetings Input\n",
    "GREETINGS_Inputs=[\"Hello\",\"Hi\",\"hi\",\"hola\",\"greetings\",\"wassup\",\"hey\"]\n",
    "#Greetings responses back to user\n",
    "GREETING_RESPONSE=[\"howdy\",\"hi\",\"hey\",\"whats good\", \"hello\", \"hey there\"]\n",
    "# Function to return random greeting response to a user response\n",
    "def greeting(sentence):\n",
    "  for word in sentence.split():\n",
    "    #print('from greeting function '+ word)\n",
    "    if word.lower() in GREETINGS_Inputs:\n",
    "      return random.choice(GREETING_RESPONSE)\n",
    "\n"
   ]
  },
  {
   "cell_type": "code",
   "execution_count": 7,
   "metadata": {
    "id": "3ePgm0ez6ifR"
   },
   "outputs": [],
   "source": [
    "#generate the response\n",
    "def response(user_response):\n",
    "\n",
    "  #user_response='what is chronic kidney disease'\n",
    "  user_response=user_response.lower()\n",
    "  ### Print the user response\n",
    "  #print(user_response)\n",
    "\n",
    "  #set bot response to an empty string\n",
    "  robo_response=''\n",
    "  #append the user response to a sentence list\n",
    "  sent_tokens.append(user_response)\n",
    "\n",
    "  ### print the sentence list after appending user resposne\n",
    "\n",
    "  #print (sent_tokens)\n",
    "  #create a tfidfvectorizer object\n",
    "  TfidfVec=TfidfVectorizer(tokenizer=LemNormalize,stop_words='english')\n",
    "  #convert text to a metrix of Tf-idf features\n",
    "  tfidf=TfidfVec.fit_transform(sent_tokens)\n",
    "  ### print the tfidf features\n",
    "  #print (tfidf)\n",
    "\n",
    "  #get the measure of similarity (similarity scores)\n",
    "  vals=cosine_similarity(tfidf[-1],tfidf)\n",
    "\n",
    "  ### Print Vals\n",
    "  #print(vals)\n",
    "\n",
    "  ### get the index of most similar text/sentence to the user response\n",
    "  idx=vals.argsort()[0][-2]\n",
    "\n",
    "  #reduce the dimensionality of vals\n",
    "  flat= vals.flatten()\n",
    "\n",
    "  #sort the list in ascending order\n",
    "  flat.sort()\n",
    "\n",
    "  #get the most similar score to user response\n",
    "  score= flat[-2]\n",
    "\n",
    "  #if the variable score is 0 then there is no text similar to the users response\n",
    "  if (score==0):\n",
    "    robo_response = robo_response+\"I apologies I dont understand\"\n",
    "  else:\n",
    "    robo_response=robo_response+sent_tokens[idx]\n",
    "\n",
    "  #Print chatbot resposne\n",
    "  #print (robo_response)\n",
    "\n",
    "  #print (sent_tokens[idx])\n",
    "  sent_tokens.remove(user_response)\n",
    "  return robo_response\n",
    "\n",
    "\n",
    "\n",
    "\n"
   ]
  },
  {
   "cell_type": "code",
   "execution_count": null,
   "metadata": {
    "id": "LU5sXIbx-kMO"
   },
   "outputs": [],
   "source": [
    "#sent_tokens.remove(user_response)"
   ]
  },
  {
   "cell_type": "code",
   "execution_count": 8,
   "metadata": {
    "colab": {
     "base_uri": "https://localhost:8080/"
    },
    "id": "ckdy9AtX-0A1",
    "outputId": "92c5d4fc-27f0-4b3a-a51d-5fb2cd94d70c"
   },
   "outputs": [
    {
     "name": "stdout",
     "output_type": "stream",
     "text": [
      "DocBot: I am DocBot or Doctor Bot , and I will answer your queries for Chronic Kidney diseases, if you want to exit type Bye\n",
      "Hi\n",
      "DocBot:hi\n",
      "what is Chronic kidney diseases\n",
      "DocBot:Smoking can also be a contributing factor to chronic kidney disease.\n",
      "Bye\n",
      "DocBot: Chat with you later !\n"
     ]
    }
   ],
   "source": [
    "flag= True\n",
    "print (\"DocBot: I am DocBot or Doctor Bot , and I will answer your queries for Chronic Kidney diseases, if you want to exit type Bye\")\n",
    "while (flag==True):\n",
    "  user_response=input()\n",
    "  user_response=user_response.lower()\n",
    "  if(user_response!=\"bye\"):\n",
    "    if(user_response == 'thanks' or user_response == 'thank you'):\n",
    "      flag=False\n",
    "      print(\"DocBot : You are Welcome !\")\n",
    "    else:\n",
    "      #print('1')\n",
    "      #print('1.1'+ greeting(user_response))\n",
    "      if(greeting(user_response)!=None):\n",
    "       # print('1.2')\n",
    "        print(\"DocBot:\"+ greeting(user_response))\n",
    "      else:\n",
    "        print('DocBot:' + response(user_response))\n",
    "\n",
    "  else:\n",
    "      flag=False\n",
    "      print (\"DocBot: Chat with you later !\")\n"
   ]
  },
  {
   "cell_type": "code",
   "execution_count": null,
   "metadata": {
    "id": "p3fscghblAmj"
   },
   "outputs": [],
   "source": [
    "pip install newspaper3k"
   ]
  }
 ],
 "metadata": {
  "colab": {
   "provenance": []
  },
  "kernelspec": {
   "display_name": "Python 3 (ipykernel)",
   "language": "python",
   "name": "python3"
  },
  "language_info": {
   "codemirror_mode": {
    "name": "ipython",
    "version": 3
   },
   "file_extension": ".py",
   "mimetype": "text/x-python",
   "name": "python",
   "nbconvert_exporter": "python",
   "pygments_lexer": "ipython3",
   "version": "3.10.4"
  }
 },
 "nbformat": 4,
 "nbformat_minor": 1
}
